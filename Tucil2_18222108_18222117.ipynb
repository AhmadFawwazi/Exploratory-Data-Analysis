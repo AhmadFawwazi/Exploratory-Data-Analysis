{
 "cells": [
  {
   "cell_type": "markdown",
   "metadata": {
    "id": "uSIWCqrYmFED"
   },
   "source": [
    "# IF3070 Foundations of Artificial Intelligence | Tugas Kecil 2\n",
    "\n"
   ]
  },
  {
   "cell_type": "markdown",
   "metadata": {
    "id": "h7GBlbj5mFEE"
   },
   "source": [
    "Group Number: 21\n",
    "\n",
    "Group Members:\n",
    "- Muhammad Daffa Kusuma Atmaja 18222108\n",
    "- Ahmad Fawwazi 18222117"
   ]
  },
  {
   "cell_type": "markdown",
   "metadata": {
    "id": "0h-OTlV0mFEE"
   },
   "source": [
    "## Import Libraries"
   ]
  },
  {
   "cell_type": "code",
   "execution_count": 60,
   "metadata": {
    "id": "6HiGhI10mFEE"
   },
   "outputs": [],
   "source": [
    "import pandas as pd\n",
    "import numpy as np\n",
    "\n",
    "# Import other libraries if needed\n",
    "from ucimlrepo import fetch_ucirepo\n",
    "\n",
    "# Atur tampilan Pandas\n",
    "pd.set_option('display.max_columns', None)  # Menampilkan semua kolom\n",
    "pd.set_option('display.max_rows', 20)      # Menampilkan lebih sedikit baris (default 20)\n",
    "pd.set_option('display.width', 1000)       # Lebar tampilan\n",
    "\n",
    "\n"
   ]
  },
  {
   "cell_type": "markdown",
   "metadata": {
    "id": "ugTwxRyfmFEF"
   },
   "source": [
    "## Import Dataset"
   ]
  },
  {
   "cell_type": "code",
   "execution_count": 61,
   "metadata": {
    "colab": {
     "base_uri": "https://localhost:8080/",
     "height": 206
    },
    "id": "snidRLctv2KH",
    "outputId": "808956ea-d562-4f62-c1c0-55ef605e376d"
   },
   "outputs": [
    {
     "name": "stdout",
     "output_type": "stream",
     "text": [
      "   id     FILENAME                                   URL  URLLength                        Domain  DomainLength  IsDomainIP  TLD  CharContinuationRate  TLDLegitimateProb  URLCharProb  TLDLength  NoOfSubDomain  HasObfuscation  NoOfObfuscatedChar  ObfuscationRatio  NoOfLettersInURL  LetterRatioInURL  NoOfDegitsInURL  DegitRatioInURL  NoOfEqualsInURL  NoOfQMarkInURL  NoOfAmpersandInURL  NoOfOtherSpecialCharsInURL  SpacialCharRatioInURL  IsHTTPS  LineOfCode  LargestLineLength  HasTitle                Title  DomainTitleMatchScore  URLTitleMatchScore  HasFavicon  Robots  IsResponsive  NoOfURLRedirect  NoOfSelfRedirect  HasDescription  NoOfPopup  NoOfiFrame  HasExternalFormSubmit  HasSocialNet  HasSubmitButton  HasHiddenFields  HasPasswordField  Bank  Pay  Crypto  HasCopyrightInfo  NoOfImage  NoOfCSS  NoOfJS  NoOfSelfRef  NoOfEmptyRef  NoOfExternalRef  label\n",
      "0   1          NaN             https://www.northcm.ac.th       24.0             www.northcm.ac.th          17.0         0.0  NaN              0.800000                NaN          NaN        NaN            2.0             0.0                 NaN               0.0               NaN             0.417              0.0            0.000              0.0             0.0                 0.0                         2.0                  0.083      NaN         NaN              457.0       NaN             norhcmac                    NaN                 NaN         NaN     0.0           NaN              NaN               0.0             NaN        0.0         5.0                    0.0           NaN              NaN              NaN               0.0   NaN  0.0     0.0               1.0        NaN      3.0     NaN         69.0           NaN              NaN      1\n",
      "1   4  8135291.txt                   http://uqr.to/1il1z        NaN                           NaN           NaN         NaN   to              1.000000           0.000896     0.036850        2.0            0.0             NaN                 0.0               NaN               8.0             0.421              2.0            0.105              NaN             NaN                 0.0                         2.0                    NaN      NaN         9.0                NaN       1.0                  NaN                    NaN               100.0         0.0     NaN           NaN              0.0               0.0             NaN        0.0         0.0                    0.0           NaN              NaN              NaN               NaN   NaN  NaN     0.0               0.0        NaN      NaN     NaN          NaN           NaN              1.0      0\n",
      "2   5   586561.txt  https://www.woolworthsrewards.com.au       35.0  www.woolworthsrewards.com.au          28.0         0.0   au              0.857143                NaN     0.060894        NaN            2.0             NaN                 NaN               0.0               NaN               NaN              0.0              NaN              0.0             0.0                 0.0                         NaN                    NaN      NaN         NaN                NaN       1.0  woolworthsrewrdscom                    0.0                 0.0         1.0     0.0           1.0              NaN               1.0             NaN        0.0         3.0                    0.0           NaN              NaN              1.0               1.0   1.0  1.0     0.0               1.0       33.0      7.0     8.0         15.0           NaN              2.0      1\n",
      "3   6          NaN                                   NaN       31.0                           NaN           NaN         NaN  com              0.562500           0.522907     0.055829        NaN            1.0             NaN                 0.0               NaN              17.0               NaN              0.0            0.000              NaN             0.0                 0.0                         NaN                  0.065      NaN         NaN             5062.0       NaN                  NaN                  100.0               100.0         NaN     0.0           NaN              0.0               0.0             0.0        7.0         NaN                    NaN           NaN              NaN              NaN               NaN   0.0  1.0     0.0               1.0       24.0      5.0    14.0          NaN           NaN              NaN      1\n",
      "4  11   412632.txt                                   NaN        NaN        www.nyprowrestling.com          22.0         0.0  NaN              1.000000                NaN          NaN        NaN            1.0             NaN                 NaN               0.0               NaN               NaN              0.0            0.000              NaN             0.0                 NaN                         1.0                  0.034      1.0       766.0                NaN       NaN       nyprowrestling                  100.0               100.0         1.0     1.0           NaN              0.0               NaN             1.0        0.0         0.0                    NaN           1.0              NaN              0.0               0.0   0.0  0.0     0.0               1.0        NaN      NaN    14.0          NaN           0.0              NaN      1\n",
      "{'uci_id': 967, 'name': 'PhiUSIIL Phishing URL (Website)', 'repository_url': 'https://archive.ics.uci.edu/dataset/967/phiusiil+phishing+url+dataset', 'data_url': 'https://archive.ics.uci.edu/static/public/967/data.csv', 'abstract': 'PhiUSIIL Phishing URL Dataset is a substantial dataset comprising 134,850 legitimate and 100,945 phishing URLs. Most of the URLs we analyzed, while constructing the dataset, are the latest URLs. Features are extracted from the source code of the webpage and URL. Features such as CharContinuationRate, URLTitleMatchScore, URLCharProb, and TLDLegitimateProb are derived from existing features.', 'area': 'Computer Science', 'tasks': ['Classification'], 'characteristics': ['Tabular'], 'num_instances': 235795, 'num_features': 54, 'feature_types': ['Real', 'Categorical', 'Integer'], 'demographics': [], 'target_col': ['label'], 'index_col': None, 'has_missing_values': 'no', 'missing_values_symbol': None, 'year_of_dataset_creation': 2024, 'last_updated': 'Sun May 12 2024', 'dataset_doi': 'https://doi.org/10.1016/j.cose.2023.103545', 'creators': ['Arvind Prasad', 'Shalini Chandra'], 'intro_paper': {'ID': 411, 'type': 'NATIVE', 'title': 'PhiUSIIL: A diverse security profile empowered phishing URL detection framework based on similarity index and incremental learning', 'authors': 'Arvind Prasad and Shalini Chandra', 'venue': 'Computers & Security', 'year': 2024, 'journal': None, 'DOI': None, 'URL': 'https://doi.org/10.1016/j.cose.2023.103545', 'sha': None, 'corpus': None, 'arxiv': None, 'mag': None, 'acl': None, 'pmid': None, 'pmcid': None}, 'additional_info': {'summary': None, 'purpose': None, 'funded_by': None, 'instances_represent': 'URLs and their corresponding webpages', 'recommended_data_splits': None, 'sensitive_data': None, 'preprocessing_description': None, 'variable_info': 'Column \"FILENAME\" can be ignored.', 'citation': 'Prasad, A., & Chandra, S. (2023). PhiUSIIL: A diverse security profile empowered phishing URL detection framework based on similarity index and incremental learning. Computers & Security, 103545. doi: https://doi.org/10.1016/j.cose.2023.103545'}}\n",
      "               name     role         type demographic description units missing_values\n",
      "0          FILENAME    Other  Categorical        None        None  None             no\n",
      "1               URL  Feature  Categorical        None        None  None             no\n",
      "2         URLLength  Feature      Integer        None        None  None             no\n",
      "3            Domain  Feature  Categorical        None        None  None             no\n",
      "4      DomainLength  Feature      Integer        None        None  None             no\n",
      "..              ...      ...          ...         ...         ...   ...            ...\n",
      "51           NoOfJS  Feature      Integer        None        None  None             no\n",
      "52      NoOfSelfRef  Feature      Integer        None        None  None             no\n",
      "53     NoOfEmptyRef  Feature      Integer        None        None  None             no\n",
      "54  NoOfExternalRef  Feature      Integer        None        None  None             no\n",
      "55            label   Target      Integer        None        None  None             no\n",
      "\n",
      "[56 rows x 7 columns]\n"
     ]
    }
   ],
   "source": [
    "\n",
    "# Path ke file train.csv yang ada di folder yang sama\n",
    "file_path = 'train.csv'\n",
    "\n",
    "# Membaca dataset\n",
    "df = pd.read_csv(file_path)\n",
    "\n",
    "# Menampilkan 5 baris pertama dataset\n",
    "print(df.head())\n",
    "\n",
    "# Load Dataset\n",
    "# Fetch dataset using ucimlrepo\n",
    "phiusiil_phishing_url_website = fetch_ucirepo(id=967)\n",
    "\n",
    "# Split data into features (X) and targets (y)\n",
    "X = phiusiil_phishing_url_website.data.features\n",
    "y = phiusiil_phishing_url_website.data.targets\n",
    "\n",
    "# # Display metadata and variable information\n",
    "print(phiusiil_phishing_url_website.metadata)\n",
    "print(phiusiil_phishing_url_website.variables)\n"
   ]
  },
  {
   "cell_type": "markdown",
   "metadata": {
    "id": "M7K9dRzOmFEG"
   },
   "source": [
    "# 1. Exploratory Data Analysis\n",
    "\n",
    "Exploratory Data Analysis (EDA) is a crucial step in the data analysis process that involves examining and visualizing data sets to uncover patterns, trends, anomalies, and insights. It is the first step before applying more advanced statistical and machine learning techniques. EDA helps you to gain a deep understanding of the data you are working with, allowing you to make informed decisions and formulate hypotheses for further analysis."
   ]
  },
  {
   "cell_type": "markdown",
   "metadata": {
    "id": "w6tzpaCimFEG"
   },
   "source": [
    "## A. Data Understanding\n",
    "The objective of this section is for participants to understand the quality of the provided data. This includes:\n",
    "\n",
    "1. Data Size\n",
    "2. Statistics of Each Feature\n",
    "3. Outliers\n",
    "4. Correlation\n",
    "5. Distribution"
   ]
  },
  {
   "cell_type": "markdown",
   "metadata": {
    "id": "96TcnbB9mFEG"
   },
   "source": [
    "### Step 1\n",
    "\n",
    "Find the following:\n",
    "\n",
    "1. The size of the data (instances and features).\n",
    "2. The data types of each feature.\n",
    "3. The number of unique values for categorical features.\n",
    "4. The minimum, maximum, mean, median, and standard deviation values for non-categorical features.\n",
    "5. Explain the significance of gathering the first four pieces of information."
   ]
  },
  {
   "cell_type": "code",
   "execution_count": 62,
   "metadata": {
    "id": "TaELJ0atmFEG"
   },
   "outputs": [
    {
     "name": "stdout",
     "output_type": "stream",
     "text": [
      "The dataset has 140404 rows and 56 columns.\n"
     ]
    }
   ],
   "source": [
    "# 1. The size of the data (instances and features).\n",
    "rows, cols = df.shape\n",
    "print(f\"The dataset has {rows} rows and {cols} columns.\")\n"
   ]
  },
  {
   "cell_type": "code",
   "execution_count": 63,
   "metadata": {},
   "outputs": [
    {
     "name": "stdout",
     "output_type": "stream",
     "text": [
      "Data Types:\n",
      "id                              int64\n",
      "FILENAME                       object\n",
      "URL                            object\n",
      "URLLength                     float64\n",
      "Domain                         object\n",
      "DomainLength                  float64\n",
      "IsDomainIP                    float64\n",
      "TLD                            object\n",
      "CharContinuationRate          float64\n",
      "TLDLegitimateProb             float64\n",
      "URLCharProb                   float64\n",
      "TLDLength                     float64\n",
      "NoOfSubDomain                 float64\n",
      "HasObfuscation                float64\n",
      "NoOfObfuscatedChar            float64\n",
      "ObfuscationRatio              float64\n",
      "NoOfLettersInURL              float64\n",
      "LetterRatioInURL              float64\n",
      "NoOfDegitsInURL               float64\n",
      "DegitRatioInURL               float64\n",
      "NoOfEqualsInURL               float64\n",
      "NoOfQMarkInURL                float64\n",
      "NoOfAmpersandInURL            float64\n",
      "NoOfOtherSpecialCharsInURL    float64\n",
      "SpacialCharRatioInURL         float64\n",
      "IsHTTPS                       float64\n",
      "LineOfCode                    float64\n",
      "LargestLineLength             float64\n",
      "HasTitle                      float64\n",
      "Title                          object\n",
      "DomainTitleMatchScore         float64\n",
      "URLTitleMatchScore            float64\n",
      "HasFavicon                    float64\n",
      "Robots                        float64\n",
      "IsResponsive                  float64\n",
      "NoOfURLRedirect               float64\n",
      "NoOfSelfRedirect              float64\n",
      "HasDescription                float64\n",
      "NoOfPopup                     float64\n",
      "NoOfiFrame                    float64\n",
      "HasExternalFormSubmit         float64\n",
      "HasSocialNet                  float64\n",
      "HasSubmitButton               float64\n",
      "HasHiddenFields               float64\n",
      "HasPasswordField              float64\n",
      "Bank                          float64\n",
      "Pay                           float64\n",
      "Crypto                        float64\n",
      "HasCopyrightInfo              float64\n",
      "NoOfImage                     float64\n",
      "NoOfCSS                       float64\n",
      "NoOfJS                        float64\n",
      "NoOfSelfRef                   float64\n",
      "NoOfEmptyRef                  float64\n",
      "NoOfExternalRef               float64\n",
      "label                           int64\n",
      "dtype: object\n"
     ]
    }
   ],
   "source": [
    "# 2. The data types of each features:\n",
    "pd.set_option('display.max_columns', None)\n",
    "pd.set_option('display.width', None)       \n",
    "pd.set_option('display.max_rows', None)     \n",
    "\n",
    "print(\"Data Types:\")\n",
    "print(df.dtypes)\n"
   ]
  },
  {
   "cell_type": "code",
   "execution_count": 64,
   "metadata": {},
   "outputs": [
    {
     "name": "stdout",
     "output_type": "stream",
     "text": [
      "Number of unique values for categorical features:\n",
      "FILENAME: 82872\n",
      "URL: 96914\n",
      "Domain: 69832\n",
      "TLD: 497\n",
      "Title: 79460\n"
     ]
    }
   ],
   "source": [
    "# 3. The number of unique values for categorical features.\n",
    "categorical_cols = df.select_dtypes(include=['object']).columns\n",
    "\n",
    "print(\"Number of unique values for categorical features:\")\n",
    "for col in categorical_cols:\n",
    "    print(f\"{col}: {df[col].nunique()}\")\n"
   ]
  },
  {
   "cell_type": "code",
   "execution_count": 93,
   "metadata": {},
   "outputs": [
    {
     "name": "stdout",
     "output_type": "stream",
     "text": [
      " The minimum, maximum, mean, median, and standard deviation values for non-categorical features:\n",
      "id:\n",
      "  Min: 1\n",
      "  Max: 235795\n",
      "  Mean: 117682.63274550582\n",
      "  Median: 117421.5\n",
      "  Standard Deviation: 68122.00507977649\n",
      "\n",
      "URLLength:\n",
      "  Min: 14.0\n",
      "  Max: 4054.0\n",
      "  Mean: 27.70147307716417\n",
      "  Median: 26.0\n",
      "  Standard Deviation: 23.140675584728395\n",
      "\n",
      "DomainLength:\n",
      "  Min: 4.0\n",
      "  Max: 93.0\n",
      "  Mean: 19.619386724770155\n",
      "  Median: 19.0\n",
      "  Standard Deviation: 5.8338077783503515\n",
      "\n",
      "IsDomainIP:\n",
      "  Min: 0.0\n",
      "  Max: 1.0\n",
      "  Mean: 0.0004884303071005556\n",
      "  Median: 0.0\n",
      "  Standard Deviation: 0.022095173922045474\n",
      "\n",
      "CharContinuationRate:\n",
      "  Min: 0.0\n",
      "  Max: 1.0\n",
      "  Mean: 0.9180073037300187\n",
      "  Median: 1.0\n",
      "  Standard Deviation: 0.1591416069048732\n",
      "\n",
      "TLDLegitimateProb:\n",
      "  Min: 0.0\n",
      "  Max: 0.5229071\n",
      "  Mean: 0.2774819651860483\n",
      "  Median: 0.5229071\n",
      "  Standard Deviation: 0.24811547461974554\n",
      "\n",
      "URLCharProb:\n",
      "  Min: 0.001229244\n",
      "  Max: 0.088765828\n",
      "  Mean: 0.05928594172147442\n",
      "  Median: 0.060263989\n",
      "  Standard Deviation: 0.008062862038390652\n",
      "\n",
      "TLDLength:\n",
      "  Min: 2.0\n",
      "  Max: 13.0\n",
      "  Mean: 2.7290149234404844\n",
      "  Median: 3.0\n",
      "  Standard Deviation: 0.533310229341609\n",
      "\n",
      "NoOfSubDomain:\n",
      "  Min: 0.0\n",
      "  Max: 7.0\n",
      "  Mean: 1.161442331644939\n",
      "  Median: 1.0\n",
      "  Standard Deviation: 0.4450536836718831\n",
      "\n",
      "HasObfuscation:\n",
      "  Min: 0.0\n",
      "  Max: 1.0\n",
      "  Mean: 0.0004016924642493707\n",
      "  Median: 0.0\n",
      "  Standard Deviation: 0.02003837528060078\n",
      "\n",
      "NoOfObfuscatedChar:\n",
      "  Min: 0.0\n",
      "  Max: 291.0\n",
      "  Mean: 0.0059506018531098005\n",
      "  Median: 0.0\n",
      "  Standard Deviation: 1.0828550901226732\n",
      "\n",
      "ObfuscationRatio:\n",
      "  Min: 0.0\n",
      "  Max: 0.212\n",
      "  Mean: 2.7821016806057566e-05\n",
      "  Median: 0.0\n",
      "  Standard Deviation: 0.0016972813962118944\n",
      "\n",
      "NoOfLettersInURL:\n",
      "  Min: 0.0\n",
      "  Max: 2997.0\n",
      "  Mean: 14.12517841849843\n",
      "  Median: 13.0\n",
      "  Standard Deviation: 15.905539059101844\n",
      "\n",
      "LetterRatioInURL:\n",
      "  Min: 0.0\n",
      "  Max: 0.865\n",
      "  Mean: 0.48329886951163986\n",
      "  Median: 0.483\n",
      "  Standard Deviation: 0.10177056998974293\n",
      "\n",
      "NoOfDegitsInURL:\n",
      "  Min: 0.0\n",
      "  Max: 433.0\n",
      "  Mean: 0.3557369414417727\n",
      "  Median: 0.0\n",
      "  Standard Deviation: 3.3869137540454965\n",
      "\n",
      "DegitRatioInURL:\n",
      "  Min: 0.0\n",
      "  Max: 0.6\n",
      "  Mean: 0.006609095930767814\n",
      "  Median: 0.0\n",
      "  Standard Deviation: 0.03315566525942173\n",
      "\n",
      "NoOfEqualsInURL:\n",
      "  Min: 0.0\n",
      "  Max: 31.0\n",
      "  Mean: 0.010237738817141552\n",
      "  Median: 0.0\n",
      "  Standard Deviation: 0.24295302783961348\n",
      "\n",
      "NoOfQMarkInURL:\n",
      "  Min: 0.0\n",
      "  Max: 3.0\n",
      "  Mean: 0.004901197262805935\n",
      "  Median: 0.0\n",
      "  Standard Deviation: 0.0798280791491238\n",
      "\n",
      "NoOfAmpersandInURL:\n",
      "  Min: 0.0\n",
      "  Max: 52.0\n",
      "  Mean: 0.0034730627150930888\n",
      "  Median: 0.0\n",
      "  Standard Deviation: 0.24113598575091097\n",
      "\n",
      "NoOfOtherSpecialCharsInURL:\n",
      "  Min: 0.0\n",
      "  Max: 470.0\n",
      "  Mean: 1.4333495014820803\n",
      "  Median: 1.0\n",
      "  Standard Deviation: 2.0218789925707794\n",
      "\n",
      "SpacialCharRatioInURL:\n",
      "  Min: 0.0\n",
      "  Max: 0.27\n",
      "  Mean: 0.050954492716256274\n",
      "  Median: 0.043\n",
      "  Standard Deviation: 0.022623738843823522\n",
      "\n",
      "IsHTTPS:\n",
      "  Min: 0.0\n",
      "  Max: 1.0\n",
      "  Mean: 0.9617429318336592\n",
      "  Median: 1.0\n",
      "  Standard Deviation: 0.19181728035649206\n",
      "\n",
      "LineOfCode:\n",
      "  Min: 2.0\n",
      "  Max: 440155.0\n",
      "  Mean: 1796.9784704776073\n",
      "  Median: 1014.0\n",
      "  Standard Deviation: 3772.2632091065143\n",
      "\n",
      "LargestLineLength:\n",
      "  Min: 23.0\n",
      "  Max: 13698324.0\n",
      "  Mean: 8283.45526795077\n",
      "  Median: 2681.0\n",
      "  Standard Deviation: 74904.76962776399\n",
      "\n",
      "HasTitle:\n",
      "  Min: 0.0\n",
      "  Max: 1.0\n",
      "  Mean: 0.9750587007565875\n",
      "  Median: 1.0\n",
      "  Standard Deviation: 0.15594705712538148\n",
      "\n",
      "DomainTitleMatchScore:\n",
      "  Min: 0.0\n",
      "  Max: 100.0\n",
      "  Mean: 70.83289633877072\n",
      "  Median: 100.0\n",
      "  Standard Deviation: 45.03912778537346\n",
      "\n",
      "URLTitleMatchScore:\n",
      "  Min: 0.0\n",
      "  Max: 100.0\n",
      "  Mean: 71.133832360227\n",
      "  Median: 100.0\n",
      "  Standard Deviation: 44.886538589854254\n",
      "\n",
      "HasFavicon:\n",
      "  Min: 0.0\n",
      "  Max: 1.0\n",
      "  Mean: 0.531519113951843\n",
      "  Median: 1.0\n",
      "  Standard Deviation: 0.4990085999506019\n",
      "\n",
      "Robots:\n",
      "  Min: 0.0\n",
      "  Max: 1.0\n",
      "  Mean: 0.38971090614057563\n",
      "  Median: 0.0\n",
      "  Standard Deviation: 0.4876872510492253\n",
      "\n",
      "IsResponsive:\n",
      "  Min: 0.0\n",
      "  Max: 1.0\n",
      "  Mean: 0.8131348225051603\n",
      "  Median: 1.0\n",
      "  Standard Deviation: 0.3898052534436459\n",
      "\n",
      "NoOfURLRedirect:\n",
      "  Min: 0.0\n",
      "  Max: 1.0\n",
      "  Mean: 0.12167899205697069\n",
      "  Median: 0.0\n",
      "  Standard Deviation: 0.3269169291802846\n",
      "\n",
      "NoOfSelfRedirect:\n",
      "  Min: 0.0\n",
      "  Max: 1.0\n",
      "  Mean: 0.028755988003636906\n",
      "  Median: 0.0\n",
      "  Standard Deviation: 0.16712109434661215\n",
      "\n",
      "HasDescription:\n",
      "  Min: 0.0\n",
      "  Max: 1.0\n",
      "  Mean: 0.6857575934238909\n",
      "  Median: 1.0\n",
      "  Standard Deviation: 0.46421614483563417\n",
      "\n",
      "NoOfPopup:\n",
      "  Min: 0.0\n",
      "  Max: 602.0\n",
      "  Mean: 0.3597489979495317\n",
      "  Median: 0.0\n",
      "  Standard Deviation: 4.788339911551642\n",
      "\n",
      "NoOfiFrame:\n",
      "  Min: 0.0\n",
      "  Max: 1602.0\n",
      "  Mean: 2.508125138182622\n",
      "  Median: 1.0\n",
      "  Standard Deviation: 7.815329377920919\n",
      "\n",
      "HasExternalFormSubmit:\n",
      "  Min: 0.0\n",
      "  Max: 1.0\n",
      "  Mean: 0.0687166910342876\n",
      "  Median: 0.0\n",
      "  Standard Deviation: 0.25297324357385215\n",
      "\n",
      "HasSocialNet:\n",
      "  Min: 0.0\n",
      "  Max: 1.0\n",
      "  Mean: 0.7350735446447069\n",
      "  Median: 1.0\n",
      "  Standard Deviation: 0.4412970861500219\n",
      "\n",
      "HasSubmitButton:\n",
      "  Min: 0.0\n",
      "  Max: 1.0\n",
      "  Mean: 0.6160641754670999\n",
      "  Median: 1.0\n",
      "  Standard Deviation: 0.48634566869589735\n",
      "\n",
      "HasHiddenFields:\n",
      "  Min: 0.0\n",
      "  Max: 1.0\n",
      "  Mean: 0.5520086120340755\n",
      "  Median: 1.0\n",
      "  Standard Deviation: 0.4972903216965182\n",
      "\n",
      "HasPasswordField:\n",
      "  Min: 0.0\n",
      "  Max: 1.0\n",
      "  Mean: 0.13239653982049304\n",
      "  Median: 0.0\n",
      "  Standard Deviation: 0.33892366560048864\n",
      "\n",
      "Bank:\n",
      "  Min: 0.0\n",
      "  Max: 1.0\n",
      "  Mean: 0.17241944548520044\n",
      "  Median: 0.0\n",
      "  Standard Deviation: 0.37774680808896677\n",
      "\n",
      "Pay:\n",
      "  Min: 0.0\n",
      "  Max: 1.0\n",
      "  Mean: 0.3457060578010902\n",
      "  Median: 0.0\n",
      "  Standard Deviation: 0.475600363539611\n",
      "\n",
      "Crypto:\n",
      "  Min: 0.0\n",
      "  Max: 1.0\n",
      "  Mean: 0.0344540889287971\n",
      "  Median: 0.0\n",
      "  Standard Deviation: 0.18239345787103048\n",
      "\n",
      "HasCopyrightInfo:\n",
      "  Min: 0.0\n",
      "  Max: 1.0\n",
      "  Mean: 0.7515432732449117\n",
      "  Median: 1.0\n",
      "  Standard Deviation: 0.4321209755898375\n",
      "\n",
      "NoOfImage:\n",
      "  Min: 0.0\n",
      "  Max: 8956.0\n",
      "  Mean: 41.647489214072856\n",
      "  Median: 23.0\n",
      "  Standard Deviation: 102.53870236817444\n",
      "\n",
      "NoOfCSS:\n",
      "  Min: 0.0\n",
      "  Max: 35820.0\n",
      "  Mean: 10.268622901596833\n",
      "  Median: 5.0\n",
      "  Standard Deviation: 133.32165893717533\n",
      "\n",
      "NoOfJS:\n",
      "  Min: 0.0\n",
      "  Max: 2828.0\n",
      "  Mean: 16.46172882931548\n",
      "  Median: 12.0\n",
      "  Standard Deviation: 21.001274204535697\n",
      "\n",
      "NoOfSelfRef:\n",
      "  Min: 0.0\n",
      "  Max: 26596.0\n",
      "  Mean: 104.87589951447893\n",
      "  Median: 69.0\n",
      "  Standard Deviation: 219.13703534781217\n",
      "\n",
      "NoOfEmptyRef:\n",
      "  Min: 0.0\n",
      "  Max: 4887.0\n",
      "  Mean: 3.7338463742606276\n",
      "  Median: 0.0\n",
      "  Standard Deviation: 24.19245807366792\n",
      "\n",
      "NoOfExternalRef:\n",
      "  Min: 0.0\n",
      "  Max: 27516.0\n",
      "  Mean: 78.10427314325942\n",
      "  Median: 39.0\n",
      "  Standard Deviation: 187.10696493992694\n",
      "\n",
      "label:\n",
      "  Min: 0\n",
      "  Max: 1\n",
      "  Mean: 0.9248312013902737\n",
      "  Median: 1.0\n",
      "  Standard Deviation: 0.26366445619456264\n",
      "\n"
     ]
    }
   ],
   "source": [
    "# 4. The minimum, maximum, mean, median, and standard deviation values for non-categorical features.\n",
    "numerical_cols = df.select_dtypes(include=['number']).columns\n",
    "\n",
    "print(\" The minimum, maximum, mean, median, and standard deviation values for non-categorical features:\")\n",
    "\n",
    "for col in numerical_cols:\n",
    "    min_value = df[col].min()\n",
    "    max_value = df[col].max()\n",
    "    mean_value = df[col].mean()\n",
    "    median_value = df[col].median()\n",
    "    std_dev_value = df[col].std()\n",
    "    \n",
    "    print(f\"{col}:\")\n",
    "    print(f\"  Min: {min_value}\")\n",
    "    print(f\"  Max: {max_value}\")\n",
    "    print(f\"  Mean: {mean_value}\")\n",
    "    print(f\"  Median: {median_value}\")\n",
    "    print(f\"  Standard Deviation: {std_dev_value}\\n\")\n"
   ]
  },
  {
   "cell_type": "code",
   "execution_count": null,
   "metadata": {},
   "outputs": [],
   "source": [
    "#5. Explain the significance of gathering the first four pieces of information.\n",
    "#Gathering the first four pieces of information in Exploratory Data Analysis (EDA) is crucial for understanding the dataset's characteristics.\n",
    "#   1. knowing the size of data set : membantu menilai kompleksitas dataset untuk menentukan pemilihan metode analisis datanya.\n",
    "#   2. knowing the data types of each feature :membantu menentukan teknik analisis yang tepat, karena data numerik dan categorical memerlukan pendekatan yang beda.\n",
    "#   3. knowing the number of unique values for categorical features : membantu memahami keragaman data dan pengaruhnya terhadap analisis.\n",
    "#   4. knowing The minimum, maximum, mean, median, and standard deviation values for non-categorical features : Memberikan wawasan tentang distribusi data, apakah ada outlier, dan membantu memutuskan apakah perlu transformasi data."
   ]
  },
  {
   "cell_type": "markdown",
   "metadata": {
    "id": "sNRFMQoumFEG"
   },
   "source": [
    "### Step 2\n",
    "\n",
    "Find the following:\n",
    "\n",
    "1. Missing values for each feature.\n",
    "2. Outliers for each feature (use the methods you are familiar with).\n",
    "3. Why is it necessary to identify missing values and outliers?"
   ]
  },
  {
   "cell_type": "code",
   "execution_count": 66,
   "metadata": {
    "id": "caSC8wnpmFEH"
   },
   "outputs": [],
   "source": [
    "# Write your code here"
   ]
  },
  {
   "cell_type": "markdown",
   "metadata": {
    "id": "nl_Xcxn-mFEH"
   },
   "source": [
    "### Step 3\n",
    "\n",
    "Find the following:\n",
    "\n",
    "1. Correlations between features.\n",
    "2. Visualize the distribution of each feature (categorical and continuous).\n",
    "3. Visualize the correlation between features and the target variable.\n",
    "4. Explain the significance of understanding feature distributions and correlations."
   ]
  },
  {
   "cell_type": "code",
   "execution_count": 67,
   "metadata": {
    "id": "y7uzcuWgmFEH"
   },
   "outputs": [],
   "source": [
    "# Write your code here"
   ]
  },
  {
   "cell_type": "markdown",
   "metadata": {
    "id": "tGS62xxlmFEH"
   },
   "source": [
    "## B. Data Insights\n",
    "\n",
    "The objective of this section is for participants to understand how to formulate and get many insights from the given data so that we can improve the model performance. Given example questions:\n",
    "\n",
    "1. How was the proportion between phishing and non-phishing URLs on security related features (`IsHTTPS` and `Robots`)?\n",
    "2. Is there a significant correlation between the label of a URL (phishing or non-phishing) and its URL characteristics?\n",
    "3. How does website-resource-related features vary across phishing and non-phishing URLs?"
   ]
  },
  {
   "cell_type": "markdown",
   "metadata": {
    "id": "ngKJAIjHmFEH"
   },
   "source": [
    "### Step 1\n",
    "\n",
    "Answer the three example questions by visualizing and explaining the insights for each question. Add markdown texts to explain the visualizations."
   ]
  },
  {
   "cell_type": "markdown",
   "metadata": {
    "id": "gQBlE_O0mFEH"
   },
   "source": [
    "#### 1. How was the proportion between phishing and non-phishing URLs on security related features (`IsHTTPS` and `Robots`)?"
   ]
  },
  {
   "cell_type": "code",
   "execution_count": 68,
   "metadata": {
    "id": "wVaopwwPmFEH"
   },
   "outputs": [],
   "source": [
    "# Write your code here"
   ]
  },
  {
   "cell_type": "markdown",
   "metadata": {
    "id": "l-fb-3klmFEI"
   },
   "source": [
    "#### 2. Is there a significant correlation between the label of a URL (phishing or non-phishing) and its URL characteristics?\n",
    "\n",
    "URL Characteristics:\n",
    "- `URLLength`\n",
    "- `Domain`\n",
    "- `DomainLength`\n",
    "- `IsDomainIP`\n",
    "- `TLD`\n",
    "- `TLDLength`\n",
    "- `NoOfSubDomain`\n",
    "- `HasObfuscation`\n",
    "- `NoOfObfuscatedChar`\n",
    "- `ObfuscationRatio`\n",
    "- `NoOfLettersInURL`\n",
    "- `LetterRatioInURL`\n",
    "- `NoOfDegitsInURL`\n",
    "- `DegitRatioInURL`\n",
    "- `NoOfEqualsInURL`\n",
    "- `NoOfQMarkInURL`\n",
    "- `NoOfAmpersandInURL`\n",
    "- `NoOfOtherSpecialCharsInURL`\n",
    "- `SpacialCharRatioInURL`\n",
    "- `CharContinuationRate`"
   ]
  },
  {
   "cell_type": "code",
   "execution_count": 69,
   "metadata": {
    "id": "23RcHcP3mFEI"
   },
   "outputs": [],
   "source": [
    "# Write your code here"
   ]
  },
  {
   "cell_type": "markdown",
   "metadata": {
    "id": "OIKBiJrCmFEI"
   },
   "source": [
    "#### 3. How does website-resource-related features vary across phishing and non-phishing URLs?\n",
    "\n",
    "Website resource related features:\n",
    "- `NoOfImage`\n",
    "- `NoOfCSS`\n",
    "- `NoOfJS`\n",
    "- `NoOfSelfRef`\n",
    "- `NoOfEmptyRef`\n",
    "- `NoOfExternalRef`"
   ]
  },
  {
   "cell_type": "code",
   "execution_count": 70,
   "metadata": {
    "id": "1TSAakrmmFEI",
    "trusted": true
   },
   "outputs": [],
   "source": [
    "# Write your code here"
   ]
  },
  {
   "cell_type": "markdown",
   "metadata": {
    "id": "TLO0_HBwmFEI"
   },
   "source": [
    "### Step 2\n",
    "\n",
    "Try to formulate three other new questions and answer them with the methods used before."
   ]
  },
  {
   "cell_type": "markdown",
   "metadata": {
    "id": "m8Xzww7lmFEI"
   },
   "source": [
    "#### 4. Your first question (replace this heading)"
   ]
  },
  {
   "cell_type": "code",
   "execution_count": 71,
   "metadata": {
    "id": "zkaWpkSwmFEI"
   },
   "outputs": [],
   "source": [
    "# Write your code here"
   ]
  },
  {
   "cell_type": "markdown",
   "metadata": {
    "id": "8fkn9jVWmFEI"
   },
   "source": [
    "#### 5. Your second question (replace this heading)"
   ]
  },
  {
   "cell_type": "code",
   "execution_count": 72,
   "metadata": {
    "id": "uEg3UUM4mFEI"
   },
   "outputs": [],
   "source": [
    "# Write your code here"
   ]
  },
  {
   "cell_type": "markdown",
   "metadata": {
    "id": "a8IdPTpsmFEJ"
   },
   "source": [
    "#### 6. Your third question (replace this heading)"
   ]
  },
  {
   "cell_type": "code",
   "execution_count": 73,
   "metadata": {
    "id": "0NwSQ3a_mFEJ",
    "trusted": true
   },
   "outputs": [],
   "source": [
    "# Write your code here"
   ]
  }
 ],
 "metadata": {
  "colab": {
   "provenance": []
  },
  "kaggle": {
   "accelerator": "none",
   "dataSources": [
    {
     "databundleVersionId": 6475798,
     "sourceId": 60002,
     "sourceType": "competition"
    }
   ],
   "dockerImageVersionId": 30553,
   "isGpuEnabled": false,
   "isInternetEnabled": true,
   "language": "python",
   "sourceType": "notebook"
  },
  "kernelspec": {
   "display_name": "Python 3",
   "language": "python",
   "name": "python3"
  },
  "language_info": {
   "codemirror_mode": {
    "name": "ipython",
    "version": 3
   },
   "file_extension": ".py",
   "mimetype": "text/x-python",
   "name": "python",
   "nbconvert_exporter": "python",
   "pygments_lexer": "ipython3",
   "version": "3.10.7"
  }
 },
 "nbformat": 4,
 "nbformat_minor": 0
}
